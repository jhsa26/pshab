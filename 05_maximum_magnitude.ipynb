{
 "metadata": {
  "name": ""
 },
 "nbformat": 3,
 "nbformat_minor": 0,
 "worksheets": [
  {
   "cells": [
    {
     "cell_type": "code",
     "collapsed": false,
     "input": [
      "# Import required modules\n",
      "import numpy as np\n",
      "import matplotlib.pyplot as plt\n",
      "\n",
      "from hmtk.parsers.catalogue.csv_catalogue_parser import CsvCatalogueParser, CsvCatalogueWriter\n",
      "\n",
      "# Import Mmax Tools\n",
      "from hmtk.seismicity.max_magnitude.kijko_nonparametric_gaussian import KijkoNonParametricGaussian\n",
      "from hmtk.seismicity.max_magnitude.kijko_sellevol_bayes import KijkoSellevolBayes\n",
      "from hmtk.seismicity.max_magnitude.kijko_sellevol_fixed_b import KijkoSellevolFixedb\n",
      "from hmtk.seismicity.max_magnitude.cumulative_moment_release import CumulativeMoment\n",
      "\n",
      "print 'Import OK!'"
     ],
     "language": "python",
     "metadata": {},
     "outputs": []
    },
    {
     "cell_type": "code",
     "collapsed": false,
     "input": [
      "input_file = 'data_input/hmtk_bsb2013.csv'\n",
      "\n",
      "parser = CsvCatalogueParser(input_file)\n",
      "catalogue = parser.read_file()\n",
      "print 'Input complete: %s events in catalogue' % catalogue.get_number_events()\n",
      "print 'Catalogue Covers the Period: %s to %s' % (catalogue.start_year, catalogue.end_year)\n",
      "\n",
      "# Sort catalogue chronologically\n",
      "catalogue.sort_catalogue_chronologically()\n",
      "print 'Catalogue sorted chronologically!'\n",
      "\n",
      "# Plot magnitude time density\n",
      "from hmtk.plotting.seismicity.catalogue_plots import plot_magnitude_time_density\n",
      "magnitude_bin = 0.2\n",
      "time_bin = 10.0\n",
      "plot_magnitude_time_density(catalogue, magnitude_bin, time_bin)"
     ],
     "language": "python",
     "metadata": {},
     "outputs": []
    },
    {
     "cell_type": "code",
     "collapsed": false,
     "input": [
      "mmax_config = {'b-value': 1.0,\n",
      "               'input_mmin': 4.5,\n",
      "               'input_mmax': None,\n",
      "               'input_mmax_uncertainty': 0.5}\n",
      "\n",
      "mmax_ks = KijkoSellevolFixedb()\n",
      "\n",
      "mmax, mmax_sigma = mmax_ks.get_mmax(catalogue, mmax_config)\n",
      "\n",
      "print 'Mmax = %8.3f +/- %8.3f' %(mmax, mmax_sigma)"
     ],
     "language": "python",
     "metadata": {},
     "outputs": []
    },
    {
     "cell_type": "code",
     "collapsed": false,
     "input": [
      "mmax_config = {'b-value': 1.0,\n",
      "               'sigma-b': 0.05,\n",
      "               'input_mmin': 4.5,\n",
      "               'input_mmax': None,\n",
      "               'input_mmax_uncertainty': 0.5}\n",
      "\n",
      "mmax_ksb = KijkoSellevolBayes()\n",
      "\n",
      "mmax, mmax_sigma = mmax_ksb.get_mmax(catalogue, mmax_config)\n",
      "\n",
      "print 'Mmax = %8.3f +/- %8.3f' %(mmax, mmax_sigma)"
     ],
     "language": "python",
     "metadata": {},
     "outputs": []
    },
    {
     "cell_type": "code",
     "collapsed": false,
     "input": [
      "mmax_config = {'number_earthquakes': 100, # Selects the N largest earthquakes in the catalogue for analysis\n",
      "               'input_mmax': None,\n",
      "               'input_mmax_uncertainty': 0.5}\n",
      "\n",
      "mmax_knpg = KijkoNonParametricGaussian()\n",
      "mmax, mmax_sigma = mmax_knpg.get_mmax(catalogue, mmax_config)\n",
      "print 'Mmax = %8.3f +/- %8.3f' %(mmax, mmax_sigma)"
     ],
     "language": "python",
     "metadata": {},
     "outputs": []
    },
    {
     "cell_type": "code",
     "collapsed": false,
     "input": [
      "mmax_config = {'number_bootstraps': 1000} # Number of samples for the uncertainty analyis\n",
      "\n",
      "mmax_cum_mo = CumulativeMoment()\n",
      "mmax, mmax_sigma = mmax_cum_mo.get_mmax(catalogue, mmax_config)\n",
      "print 'Mmax = %8.3f +/- %8.3f' %(mmax, mmax_sigma)"
     ],
     "language": "python",
     "metadata": {},
     "outputs": []
    }
   ],
   "metadata": {}
  }
 ]
}