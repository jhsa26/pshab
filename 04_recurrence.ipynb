{
 "metadata": {
  "name": ""
 },
 "nbformat": 3,
 "nbformat_minor": 0,
 "worksheets": [
  {
   "cells": [
    {
     "cell_type": "code",
     "collapsed": false,
     "input": [
      "# Import required modules\n",
      "import numpy as np\n",
      "import matplotlib.pyplot as plt\n",
      "\n",
      "from hmtk.parsers.catalogue.csv_catalogue_parser import CsvCatalogueParser, CsvCatalogueWriter\n",
      "\n",
      "# HMTK Completeness Tools\n",
      "from hmtk.seismicity.completeness.comp_stepp_1971 import Stepp1971\n",
      "\n",
      "# Import Recurrence Tools\n",
      "from hmtk.seismicity.occurrence.b_maximum_likelihood import BMaxLikelihood\n",
      "from hmtk.seismicity.occurrence.kijko_smit import KijkoSmit\n",
      "from hmtk.seismicity.occurrence.weichert import Weichert\n",
      "\n",
      "# Import Mmax Tools\n",
      "from hmtk.seismicity.max_magnitude.kijko_nonparametric_gaussian import KijkoNonParametricGaussian\n",
      "from hmtk.seismicity.max_magnitude.kijko_sellevol_bayes import KijkoSellevolBayes\n",
      "from hmtk.seismicity.max_magnitude.kijko_sellevol_fixed_b import KijkoSellevolFixedb\n",
      "from hmtk.seismicity.max_magnitude.cumulative_moment_release import CumulativeMoment\n",
      "\n",
      "print 'Import OK!'"
     ],
     "language": "python",
     "metadata": {},
     "outputs": []
    },
    {
     "cell_type": "code",
     "collapsed": false,
     "input": [
      "input_file = 'data_input/hmtk_bsb2013.csv'\n",
      "\n",
      "parser = CsvCatalogueParser(input_file)\n",
      "catalogue = parser.read_file()\n",
      "print 'Input complete: %s events in catalogue' % catalogue.get_number_events()\n",
      "print 'Catalogue Covers the Period: %s to %s' % (catalogue.start_year, catalogue.end_year)\n",
      "\n",
      "# Sort catalogue chronologically\n",
      "catalogue.sort_catalogue_chronologically()\n",
      "print 'Catalogue sorted chronologically!'\n",
      "\n",
      "# Plot magnitude time density\n",
      "from hmtk.plotting.seismicity.catalogue_plots import plot_magnitude_time_density\n",
      "magnitude_bin = 0.2\n",
      "time_bin = 10.0\n",
      "plot_magnitude_time_density(catalogue, magnitude_bin, time_bin)"
     ],
     "language": "python",
     "metadata": {},
     "outputs": []
    },
    {
     "cell_type": "code",
     "collapsed": false,
     "input": [
      "stepp = Stepp1971()\n",
      "\n",
      "completeness_config = {'magnitude_bin': 1,\n",
      "                       'time_bin': 5,\n",
      "                       'increment_lock': False}\n",
      "print completeness_config\n",
      "\n",
      "# Run analysis\n",
      "print 'Running Stepp (1971) completeness analysis:'\n",
      "completeness_table = stepp.completeness(catalogue, completeness_config)\n",
      "print completeness_table\n",
      "print 'done!'"
     ],
     "language": "python",
     "metadata": {},
     "outputs": []
    },
    {
     "cell_type": "code",
     "collapsed": false,
     "input": [
      "from hmtk.plotting.seismicity.catalogue_plots import (plot_observed_recurrence, \n",
      "                                                      get_completeness_adjusted_table,\n",
      "                                                      _get_catalogue_bin_limits)\n",
      "\n",
      "magnitude_bin = 0.1\n",
      "end_year = 2010\n",
      "\n",
      "earthquake_count = get_completeness_adjusted_table(catalogue, \n",
      "                                                   completeness_table, \n",
      "                                                   magnitude_bin, \n",
      "                                                   catalogue.end_year)\n",
      "#print 'Magnitude  N(OBS)     N(CUM)   Log10(Nc)'\n",
      "#for row in earthquake_count:\n",
      "#    print '%6.2f %10.3f %10.3f %10.3f' %(row[0], row[1], row[2], row[3]) \n",
      "\n",
      "plot_observed_recurrence(catalogue, completeness, magnitude_bin, catalogue.end_year)"
     ],
     "language": "python",
     "metadata": {},
     "outputs": []
    },
    {
     "cell_type": "code",
     "collapsed": false,
     "input": [
      "# Set up the configuration parameters\n",
      "recurrence_config = {'reference_magnitude': None,\n",
      "                     'magnitude_interval': 0.5,\n",
      "                     'Average Type': 'Weighted'}\n",
      "\n",
      "bml_recurrence = BMaxLikelihood()\n",
      "\n",
      "bval, sigmab, rate, sigma_rate = bml_recurrence.calculate(catalogue, \n",
      "                                                          recurrence_config, \n",
      "                                                          completeness_table)\n",
      "\n",
      "print 'B-value = %9.4f +/- %9.4f' %(bval, sigmab)\n",
      "print 'Rate (M >= 4.0) = %9.4f +/- %9.4f' %(rate, sigma_rate)"
     ],
     "language": "python",
     "metadata": {},
     "outputs": []
    },
    {
     "cell_type": "code",
     "collapsed": false,
     "input": [
      "# Set up the configuration parameters\n",
      "bks_recurrence = KijkoSmit()\n",
      "\n",
      "bval, sigmab, rate, sigma_rate = bks_recurrence.calculate(catalogue, \n",
      "                                                          recurrence_config, \n",
      "                                                          completeness_table)\n",
      "\n",
      "print 'B-value = %9.4f +/- %9.4f' % (bval, sigmab)\n",
      "print 'Rate (M >= 4.0) = %9.4f +/- %9.4f' % (rate, sigma_rate)"
     ],
     "language": "python",
     "metadata": {},
     "outputs": []
    },
    {
     "cell_type": "code",
     "collapsed": false,
     "input": [
      "# Set up the configuration parameters\n",
      "bwc_recurrence = Weichert()\n",
      "\n",
      "bval, sigmab, rate, sigma_rate = bwc_recurrence.calculate(catalogue, \n",
      "                                                          recurrence_config, \n",
      "                                                          completeness_table)\n",
      "\n",
      "print 'B-value = %9.4f +/- %9.4f' %(bval, sigmab)\n",
      "print 'Rate (M >= 4.0) = %9.4f +/- %9.4f' %(rate, sigma_rate)"
     ],
     "language": "python",
     "metadata": {},
     "outputs": []
    },
    {
     "cell_type": "code",
     "collapsed": false,
     "input": [],
     "language": "python",
     "metadata": {},
     "outputs": []
    }
   ],
   "metadata": {}
  }
 ]
}