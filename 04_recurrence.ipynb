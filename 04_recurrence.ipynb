{
 "metadata": {
  "name": "",
  "signature": "sha256:631c7a10a55d942483293c31bdb506f56c75ef1221d1b41f71aa74785cf40c68"
 },
 "nbformat": 3,
 "nbformat_minor": 0,
 "worksheets": [
  {
   "cells": [
    {
     "cell_type": "code",
     "collapsed": false,
     "input": [
      "# Import required modules\n",
      "import numpy as np\n",
      "import matplotlib.pyplot as plt\n",
      "\n",
      "from hmtk.parsers.catalogue.csv_catalogue_parser import CsvCatalogueParser, CsvCatalogueWriter\n",
      "\n",
      "# HMTK Completeness Tools\n",
      "from hmtk.seismicity.completeness.comp_stepp_1971 import Stepp1971\n",
      "\n",
      "# Import Recurrence Tools\n",
      "from hmtk.seismicity.occurrence.b_maximum_likelihood import BMaxLikelihood\n",
      "from hmtk.seismicity.occurrence.kijko_smit import KijkoSmit\n",
      "from hmtk.seismicity.occurrence.weichert import Weichert\n",
      "\n",
      "# Import Mmax Tools\n",
      "from hmtk.seismicity.max_magnitude.kijko_nonparametric_gaussian import KijkoNonParametricGaussian\n",
      "from hmtk.seismicity.max_magnitude.kijko_sellevol_bayes import KijkoSellevolBayes\n",
      "from hmtk.seismicity.max_magnitude.kijko_sellevol_fixed_b import KijkoSellevolFixedb\n",
      "from hmtk.seismicity.max_magnitude.cumulative_moment_release import CumulativeMoment\n",
      "\n",
      "print 'Import OK!'"
     ],
     "language": "python",
     "metadata": {},
     "outputs": [
      {
       "output_type": "stream",
       "stream": "stdout",
       "text": [
        "Import OK!\n"
       ]
      }
     ],
     "prompt_number": 10
    },
    {
     "cell_type": "code",
     "collapsed": false,
     "input": [
      "input_file = 'data_input/hmtk_bsb2013.csv'\n",
      "\n",
      "parser = CsvCatalogueParser(input_file)\n",
      "catalogue = parser.read_file()\n",
      "print 'Input complete: %s events in catalogue' % catalogue.get_number_events()\n",
      "print 'Catalogue Covers the Period: %s to %s' % (catalogue.start_year, catalogue.end_year)\n",
      "\n",
      "# Sort catalogue chronologically\n",
      "catalogue.sort_catalogue_chronologically()\n",
      "print 'Catalogue sorted chronologically!'\n",
      "\n",
      "# Plot magnitude time density\n",
      "from hmtk.plotting.seismicity.catalogue_plots import plot_magnitude_time_density\n",
      "magnitude_bin = 0.2\n",
      "time_bin = 10.0\n",
      "plot_magnitude_time_density(catalogue, magnitude_bin, time_bin)"
     ],
     "language": "python",
     "metadata": {},
     "outputs": [
      {
       "output_type": "stream",
       "stream": "stdout",
       "text": [
        "Input complete: 929 events in catalogue\n",
        "Catalogue Covers the Period: 1744 to 2012\n",
        "Catalogue sorted chronologically!\n"
       ]
      },
      {
       "metadata": {},
       "output_type": "display_data",
       "png": "[encoded data removed]",
       "text": [
        "<matplotlib.figure.Figure at 0x1113a9110>"
       ]
      }
     ],
     "prompt_number": 11
    },
    {
     "cell_type": "code",
     "collapsed": false,
     "input": [
      "stepp = Stepp1971()\n",
      "\n",
      "completeness_config = {'magnitude_bin': 1,\n",
      "                       'time_bin': 5,\n",
      "                       'increment_lock': False}\n",
      "print completeness_config\n",
      "\n",
      "# Run analysis\n",
      "print 'Running Stepp (1971) completeness analysis:'\n",
      "completeness_table = stepp.completeness(catalogue, completeness_config)\n",
      "print completeness_table\n",
      "print 'done!'"
     ],
     "language": "python",
     "metadata": {},
     "outputs": [
      {
       "output_type": "stream",
       "stream": "stdout",
       "text": [
        "{'magnitude_bin': 1, 'increment_lock': False, 'time_bin': 5}\n",
        "Running Stepp (1971) completeness analysis:\n",
        "[[ 1982.     2.]\n",
        " [ 1973.     3.]\n",
        " [ 1973.     4.]\n",
        " [ 1969.     5.]]"
       ]
      },
      {
       "output_type": "stream",
       "stream": "stdout",
       "text": [
        "\n",
        "done!\n"
       ]
      }
     ],
     "prompt_number": 12
    },
    {
     "cell_type": "code",
     "collapsed": false,
     "input": [
      "from hmtk.plotting.seismicity.catalogue_plots import (plot_observed_recurrence, \n",
      "                                                      get_completeness_adjusted_table,\n",
      "                                                      _get_catalogue_bin_limits)\n",
      "\n",
      "magnitude_bin = 0.5\n",
      "end_year = 2010\n",
      "\n",
      "earthquake_count = get_completeness_adjusted_table(catalogue, \n",
      "                                                   completeness_table, \n",
      "                                                   magnitude_bin, \n",
      "                                                   catalogue.end_year)\n",
      "#print 'Magnitude  N(OBS)     N(CUM)   Log10(Nc)'\n",
      "#for row in earthquake_count:\n",
      "#    print '%6.2f %10.3f %10.3f %10.3f' %(row[0], row[1], row[2], row[3]) \n",
      "\n",
      "plot_observed_recurrence(catalogue, completeness_table, magnitude_bin, catalogue.end_year)"
     ],
     "language": "python",
     "metadata": {},
     "outputs": [
      {
       "metadata": {},
       "output_type": "display_data",
       "png": "[encoded data removed]",
       "text": [
        "<matplotlib.figure.Figure at 0x111499fd0>"
       ]
      }
     ],
     "prompt_number": 20
    },
    {
     "cell_type": "code",
     "collapsed": false,
     "input": [
      "# Set up the configuration parameters\n",
      "recurrence_config = {'reference_magnitude': None,\n",
      "                     'magnitude_interval': 0.5,\n",
      "                     'Average Type': 'Weighted'}\n",
      "\n",
      "bml_recurrence = BMaxLikelihood()\n",
      "\n",
      "bval, sigmab, rate, sigma_rate = bml_recurrence.calculate(catalogue, \n",
      "                                                          recurrence_config, \n",
      "                                                          completeness_table)\n",
      "\n",
      "print 'B-value = %9.4f +/- %9.4f' %(bval, sigmab)\n",
      "print 'Rate (M >= 4.0) = %9.4f +/- %9.4f' %(rate, sigma_rate)"
     ],
     "language": "python",
     "metadata": {},
     "outputs": [
      {
       "output_type": "stream",
       "stream": "stdout",
       "text": [
        "--- ctime 1982.0  m_c 2.0\n",
        "--- ctime 1973.0  m_c 3.0\n",
        "--- ctime 1969.0  m_c 5.0\n",
        "B-value =    0.7369 +/-    0.0234\n",
        "Rate (M >= 4.0) =    3.0936 +/-    0.0479\n"
       ]
      }
     ],
     "prompt_number": 18
    },
    {
     "cell_type": "code",
     "collapsed": false,
     "input": [
      "# Set up the configuration parameters\n",
      "bks_recurrence = KijkoSmit()\n",
      "\n",
      "bval, sigmab, rate, sigma_rate = bks_recurrence.calculate(catalogue, \n",
      "                                                          recurrence_config, \n",
      "                                                          completeness_table)\n",
      "\n",
      "print 'B-value = %9.4f +/- %9.4f' % (bval, sigmab)\n",
      "print 'Rate (M >= 4.0) = %9.4f +/- %9.4f' % (rate, sigma_rate)"
     ],
     "language": "python",
     "metadata": {},
     "outputs": [
      {
       "ename": "ValueError",
       "evalue": "zero-size array to reduction operation maximum which has no identity",
       "output_type": "pyerr",
       "traceback": [
        "\u001b[0;31m---------------------------------------------------------------------------\u001b[0m\n\u001b[0;31mValueError\u001b[0m                                Traceback (most recent call last)",
        "\u001b[0;32m<ipython-input-19-66990ac4f318>\u001b[0m in \u001b[0;36m<module>\u001b[0;34m()\u001b[0m\n\u001b[1;32m      4\u001b[0m bval, sigmab, rate, sigma_rate = bks_recurrence.calculate(catalogue, \n\u001b[1;32m      5\u001b[0m                                                           \u001b[0mrecurrence_config\u001b[0m\u001b[0;34m,\u001b[0m\u001b[0;34m\u001b[0m\u001b[0m\n\u001b[0;32m----> 6\u001b[0;31m                                                           completeness_table)\n\u001b[0m\u001b[1;32m      7\u001b[0m \u001b[0;34m\u001b[0m\u001b[0m\n\u001b[1;32m      8\u001b[0m \u001b[0;32mprint\u001b[0m \u001b[0;34m'B-value = %9.4f +/- %9.4f'\u001b[0m \u001b[0;34m%\u001b[0m \u001b[0;34m(\u001b[0m\u001b[0mbval\u001b[0m\u001b[0;34m,\u001b[0m \u001b[0msigmab\u001b[0m\u001b[0;34m)\u001b[0m\u001b[0;34m\u001b[0m\u001b[0m\n",
        "\u001b[0;32m/Users/pirchiner/dev/hmtk/hmtk/seismicity/occurrence/kijko_smit.pyc\u001b[0m in \u001b[0;36mcalculate\u001b[0;34m(self, catalogue, config, completeness)\u001b[0m\n",
        "\u001b[0;32m/Users/pirchiner/dev/hmtk/hmtk/registry.pyc\u001b[0m in \u001b[0;36mcaller\u001b[0;34m(fn, obj, catalogue, config, *args, **kwargs)\u001b[0m\n\u001b[1;32m    127\u001b[0m                 \u001b[0mself\u001b[0m\u001b[0;34m.\u001b[0m\u001b[0mset_defaults\u001b[0m\u001b[0;34m(\u001b[0m\u001b[0mconfig\u001b[0m\u001b[0;34m,\u001b[0m \u001b[0mfields\u001b[0m\u001b[0;34m)\u001b[0m\u001b[0;34m\u001b[0m\u001b[0m\n\u001b[1;32m    128\u001b[0m                 \u001b[0mself\u001b[0m\u001b[0;34m.\u001b[0m\u001b[0mcheck_config\u001b[0m\u001b[0;34m(\u001b[0m\u001b[0mconfig\u001b[0m\u001b[0;34m,\u001b[0m \u001b[0mfields\u001b[0m\u001b[0;34m)\u001b[0m\u001b[0;34m\u001b[0m\u001b[0m\n\u001b[0;32m--> 129\u001b[0;31m                 \u001b[0;32mreturn\u001b[0m \u001b[0mfn\u001b[0m\u001b[0;34m(\u001b[0m\u001b[0mobj\u001b[0m\u001b[0;34m,\u001b[0m \u001b[0mcatalogue\u001b[0m\u001b[0;34m,\u001b[0m \u001b[0mconfig\u001b[0m\u001b[0;34m,\u001b[0m \u001b[0;34m*\u001b[0m\u001b[0margs\u001b[0m\u001b[0;34m,\u001b[0m \u001b[0;34m**\u001b[0m\u001b[0mkwargs\u001b[0m\u001b[0;34m)\u001b[0m\u001b[0;34m\u001b[0m\u001b[0m\n\u001b[0m\u001b[1;32m    130\u001b[0m             \u001b[0mnew_method\u001b[0m \u001b[0;34m=\u001b[0m \u001b[0mdecorator\u001b[0m\u001b[0;34m(\u001b[0m\u001b[0mcaller\u001b[0m\u001b[0;34m,\u001b[0m \u001b[0moriginal_method\u001b[0m\u001b[0;34m.\u001b[0m\u001b[0mim_func\u001b[0m\u001b[0;34m)\u001b[0m\u001b[0;34m\u001b[0m\u001b[0m\n\u001b[1;32m    131\u001b[0m             \u001b[0msetattr\u001b[0m\u001b[0;34m(\u001b[0m\u001b[0mclass_obj\u001b[0m\u001b[0;34m,\u001b[0m \u001b[0mmethod_name\u001b[0m\u001b[0;34m,\u001b[0m \u001b[0mnew_method\u001b[0m\u001b[0;34m)\u001b[0m\u001b[0;34m\u001b[0m\u001b[0m\n",
        "\u001b[0;32m/Users/pirchiner/dev/hmtk/hmtk/seismicity/occurrence/kijko_smit.pyc\u001b[0m in \u001b[0;36mcalculate\u001b[0;34m(self, catalogue, config, completeness)\u001b[0m\n\u001b[1;32m    104\u001b[0m             temp_rec_table = recurrence_table(catalogue.data['magnitude'][id1],\n\u001b[1;32m    105\u001b[0m                                               \u001b[0mdmag\u001b[0m\u001b[0;34m,\u001b[0m\u001b[0;34m\u001b[0m\u001b[0m\n\u001b[0;32m--> 106\u001b[0;31m                                               catalogue.data['year'][id1])\n\u001b[0m\u001b[1;32m    107\u001b[0m \u001b[0;34m\u001b[0m\u001b[0m\n\u001b[1;32m    108\u001b[0m             \u001b[0maki_ml\u001b[0m \u001b[0;34m=\u001b[0m \u001b[0mAkiMaxLikelihood\u001b[0m\u001b[0;34m(\u001b[0m\u001b[0;34m)\u001b[0m\u001b[0;34m\u001b[0m\u001b[0m\n",
        "\u001b[0;32m/Users/pirchiner/dev/hmtk/hmtk/seismicity/occurrence/utils.pyc\u001b[0m in \u001b[0;36mrecurrence_table\u001b[0;34m(mag, dmag, year, time_interval)\u001b[0m\n\u001b[1;32m     76\u001b[0m     \u001b[0;31m# Define magnitude vectors\u001b[0m\u001b[0;34m\u001b[0m\u001b[0;34m\u001b[0m\u001b[0m\n\u001b[1;32m     77\u001b[0m     \u001b[0;32mif\u001b[0m \u001b[0mtime_interval\u001b[0m \u001b[0;32mis\u001b[0m \u001b[0mNone\u001b[0m\u001b[0;34m:\u001b[0m\u001b[0;34m\u001b[0m\u001b[0m\n\u001b[0;32m---> 78\u001b[0;31m         \u001b[0mnum_year\u001b[0m \u001b[0;34m=\u001b[0m \u001b[0mnp\u001b[0m\u001b[0;34m.\u001b[0m\u001b[0mmax\u001b[0m\u001b[0;34m(\u001b[0m\u001b[0myear\u001b[0m\u001b[0;34m)\u001b[0m \u001b[0;34m-\u001b[0m \u001b[0mnp\u001b[0m\u001b[0;34m.\u001b[0m\u001b[0mmin\u001b[0m\u001b[0;34m(\u001b[0m\u001b[0myear\u001b[0m\u001b[0;34m)\u001b[0m \u001b[0;34m+\u001b[0m \u001b[0;36m1.\u001b[0m\u001b[0;34m\u001b[0m\u001b[0m\n\u001b[0m\u001b[1;32m     79\u001b[0m     \u001b[0;32melse\u001b[0m\u001b[0;34m:\u001b[0m\u001b[0;34m\u001b[0m\u001b[0m\n\u001b[1;32m     80\u001b[0m         \u001b[0mnum_year\u001b[0m \u001b[0;34m=\u001b[0m \u001b[0mtime_interval\u001b[0m\u001b[0;34m\u001b[0m\u001b[0m\n",
        "\u001b[0;32m/opt/local/Library/Frameworks/Python.framework/Versions/2.7/lib/python2.7/site-packages/numpy/core/fromnumeric.pyc\u001b[0m in \u001b[0;36mamax\u001b[0;34m(a, axis, out, keepdims)\u001b[0m\n\u001b[1;32m   2128\u001b[0m     \u001b[0;32melse\u001b[0m\u001b[0;34m:\u001b[0m\u001b[0;34m\u001b[0m\u001b[0m\n\u001b[1;32m   2129\u001b[0m         return _methods._amax(a, axis=axis,\n\u001b[0;32m-> 2130\u001b[0;31m                             out=out, keepdims=keepdims)\n\u001b[0m\u001b[1;32m   2131\u001b[0m \u001b[0;34m\u001b[0m\u001b[0m\n\u001b[1;32m   2132\u001b[0m \u001b[0;32mdef\u001b[0m \u001b[0mamin\u001b[0m\u001b[0;34m(\u001b[0m\u001b[0ma\u001b[0m\u001b[0;34m,\u001b[0m \u001b[0maxis\u001b[0m\u001b[0;34m=\u001b[0m\u001b[0mNone\u001b[0m\u001b[0;34m,\u001b[0m \u001b[0mout\u001b[0m\u001b[0;34m=\u001b[0m\u001b[0mNone\u001b[0m\u001b[0;34m,\u001b[0m \u001b[0mkeepdims\u001b[0m\u001b[0;34m=\u001b[0m\u001b[0mFalse\u001b[0m\u001b[0;34m)\u001b[0m\u001b[0;34m:\u001b[0m\u001b[0;34m\u001b[0m\u001b[0m\n",
        "\u001b[0;32m/opt/local/Library/Frameworks/Python.framework/Versions/2.7/lib/python2.7/site-packages/numpy/core/_methods.pyc\u001b[0m in \u001b[0;36m_amax\u001b[0;34m(a, axis, out, keepdims)\u001b[0m\n\u001b[1;32m     15\u001b[0m \u001b[0;32mdef\u001b[0m \u001b[0m_amax\u001b[0m\u001b[0;34m(\u001b[0m\u001b[0ma\u001b[0m\u001b[0;34m,\u001b[0m \u001b[0maxis\u001b[0m\u001b[0;34m=\u001b[0m\u001b[0mNone\u001b[0m\u001b[0;34m,\u001b[0m \u001b[0mout\u001b[0m\u001b[0;34m=\u001b[0m\u001b[0mNone\u001b[0m\u001b[0;34m,\u001b[0m \u001b[0mkeepdims\u001b[0m\u001b[0;34m=\u001b[0m\u001b[0mFalse\u001b[0m\u001b[0;34m)\u001b[0m\u001b[0;34m:\u001b[0m\u001b[0;34m\u001b[0m\u001b[0m\n\u001b[1;32m     16\u001b[0m     return um.maximum.reduce(a, axis=axis,\n\u001b[0;32m---> 17\u001b[0;31m                             out=out, keepdims=keepdims)\n\u001b[0m\u001b[1;32m     18\u001b[0m \u001b[0;34m\u001b[0m\u001b[0m\n\u001b[1;32m     19\u001b[0m \u001b[0;32mdef\u001b[0m \u001b[0m_amin\u001b[0m\u001b[0;34m(\u001b[0m\u001b[0ma\u001b[0m\u001b[0;34m,\u001b[0m \u001b[0maxis\u001b[0m\u001b[0;34m=\u001b[0m\u001b[0mNone\u001b[0m\u001b[0;34m,\u001b[0m \u001b[0mout\u001b[0m\u001b[0;34m=\u001b[0m\u001b[0mNone\u001b[0m\u001b[0;34m,\u001b[0m \u001b[0mkeepdims\u001b[0m\u001b[0;34m=\u001b[0m\u001b[0mFalse\u001b[0m\u001b[0;34m)\u001b[0m\u001b[0;34m:\u001b[0m\u001b[0;34m\u001b[0m\u001b[0m\n",
        "\u001b[0;31mValueError\u001b[0m: zero-size array to reduction operation maximum which has no identity"
       ]
      }
     ],
     "prompt_number": 19
    },
    {
     "cell_type": "code",
     "collapsed": false,
     "input": [
      "# Set up the configuration parameters\n",
      "bwc_recurrence = Weichert()\n",
      "\n",
      "bval, sigmab, rate, sigma_rate = bwc_recurrence.calculate(catalogue, \n",
      "                                                          recurrence_config, \n",
      "                                                          completeness_table)\n",
      "\n",
      "print 'B-value = %9.4f +/- %9.4f' %(bval, sigmab)\n",
      "print 'Rate (M >= 4.0) = %9.4f +/- %9.4f' %(rate, sigma_rate)"
     ],
     "language": "python",
     "metadata": {},
     "outputs": [
      {
       "output_type": "stream",
       "stream": "stdout",
       "text": [
        "B-value =    0.5264 +/-    0.0205\n",
        "Rate (M >= 4.0) =    2.6420 +/-    0.0151\n"
       ]
      }
     ],
     "prompt_number": 16
    },
    {
     "cell_type": "code",
     "collapsed": false,
     "input": [],
     "language": "python",
     "metadata": {},
     "outputs": [],
     "prompt_number": 16
    },
    {
     "cell_type": "code",
     "collapsed": false,
     "input": [],
     "language": "python",
     "metadata": {},
     "outputs": []
    }
   ],
   "metadata": {}
  }
 ]
}