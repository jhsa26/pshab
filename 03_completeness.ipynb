{
 "metadata": {
  "name": ""
 },
 "nbformat": 3,
 "nbformat_minor": 0,
 "worksheets": [
  {
   "cells": [
    {
     "cell_type": "code",
     "collapsed": false,
     "input": [
      "# Python utilities\n",
      "import numpy as np\n",
      "import matplotlib.pyplot as plt\n",
      "\n",
      "# Import HMTK I/O Tools\n",
      "from hmtk.parsers.catalogue.csv_catalogue_parser import CsvCatalogueParser, CsvCatalogueWriter\n",
      "\n",
      "# HMTK Completeness Tools\n",
      "from hmtk.seismicity.completeness.comp_stepp_1971 import Stepp1971\n",
      "\n",
      "print 'Import OK'"
     ],
     "language": "python",
     "metadata": {},
     "outputs": []
    },
    {
     "cell_type": "code",
     "collapsed": false,
     "input": [
      "# Read catalogue\n",
      "ifile = 'data_input/hmtk_bsb2013.csv'\n",
      "parser = CsvCatalogueParser(ifile)\n",
      "catalogue = parser.read_file()\n",
      "print 'Catalogue contains %s events' % catalogue.get_number_events()\n",
      "\n",
      "# Sort catalogue chronologically\n",
      "catalogue.sort_catalogue_chronologically()\n",
      "print 'Catalogue sorted chronologically!'"
     ],
     "language": "python",
     "metadata": {},
     "outputs": []
    },
    {
     "cell_type": "code",
     "collapsed": false,
     "input": [
      "stepp = Stepp1971()\n",
      "\n",
      "completeness_config = {'magnitude_bin': 1,\n",
      "                       'time_bin': 5,\n",
      "                       'increment_lock': False}\n",
      "print completeness_config\n",
      "\n",
      "# Run analysis\n",
      "print 'Running Stepp (1971) completeness analysis:'\n",
      "completeness_table = stepp.completeness(catalogue, completeness_config)\n",
      "print completeness_table\n",
      "print 'done!'\n",
      "\n",
      "# Print the output completeness table\n",
      "#for row in completeness_table:\n",
      "#    print '%8.1f  %8.2f' %(row[0], row[1])"
     ],
     "language": "python",
     "metadata": {},
     "outputs": []
    },
    {
     "cell_type": "code",
     "collapsed": false,
     "input": [
      "from hmtk.plotting.seismicity.completeness.plot_stepp_1972 import create_stepp_plot\n",
      "create_stepp_plot(stepp, \"data_output/stepp_plot_catalogue_bsb2013.png\")"
     ],
     "language": "python",
     "metadata": {},
     "outputs": []
    },
    {
     "cell_type": "code",
     "collapsed": false,
     "input": [],
     "language": "python",
     "metadata": {},
     "outputs": []
    }
   ],
   "metadata": {}
  }
 ]
}