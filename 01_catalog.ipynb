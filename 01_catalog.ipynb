{
 "metadata": {
  "name": ""
 },
 "nbformat": 3,
 "nbformat_minor": 0,
 "worksheets": [
  {
   "cells": [
    {
     "cell_type": "code",
     "collapsed": false,
     "input": [
      "# Python Numerical and Plotting Libraries\n",
      "import numpy as np\n",
      "import matplotlib.pyplot as plt\n",
      "\n",
      "# HMTK Catalogue Import/Export Libraries\n",
      "from hmtk.parsers.catalogue.csv_catalogue_parser import CsvCatalogueParser, CsvCatalogueWriter\n",
      "\n",
      "# HMTK Plotting Tools\n",
      "from hmtk.plotting.seismicity.catalogue_plots import (plot_depth_histogram,\n",
      "                                                      plot_magnitude_time_scatter,\n",
      "                                                      plot_magnitude_time_density,\n",
      "                                                      plot_magnitude_depth_density,\n",
      "                                                      plot_observed_recurrence)\n",
      "from hmtk.plotting.mapping import HMTKBaseMap\n",
      "print 'Imports OK!'"
     ],
     "language": "python",
     "metadata": {
      "slideshow": {
       "slide_type": "slide"
      }
     },
     "outputs": [
      {
       "output_type": "stream",
       "stream": "stdout",
       "text": [
        "Imports OK!\n"
       ]
      }
     ],
     "prompt_number": 1
    },
    {
     "cell_type": "code",
     "collapsed": false,
     "input": [
      "input_catalogue_file = 'data_input/hmtk_bsb2013.csv'\n",
      "#input_catalogue_file = 'data_input/hmtk_sa.csv'\n",
      "\n",
      "parser = CsvCatalogueParser(input_catalogue_file)\n",
      "catalogue = parser.read_file()\n",
      "print 'Input complete: %s events in catalogue' % catalogue.get_number_events()\n",
      "print 'Catalogue Covers the Period: %s to %s' % (catalogue.start_year, catalogue.end_year)"
     ],
     "language": "python",
     "metadata": {
      "slideshow": {
       "slide_type": "subslide"
      }
     },
     "outputs": [
      {
       "output_type": "stream",
       "stream": "stdout",
       "text": [
        "Input complete: 930 events in catalogue\n",
        "Catalogue Covers the Period: 1744 to 2012\n"
       ]
      }
     ],
     "prompt_number": 2
    },
    {
     "cell_type": "code",
     "collapsed": false,
     "input": [
      "# Sort catalogue chronologically\n",
      "catalogue.sort_catalogue_chronologically()\n",
      "print 'Catalogue sorted chronologically!'"
     ],
     "language": "python",
     "metadata": {},
     "outputs": []
    },
    {
     "cell_type": "code",
     "collapsed": false,
     "input": [
      "# Configure the limits of the map and the coastline resolution\n",
      "map_config = {'min_lon': -80.0, 'max_lon': -30.0, 'min_lat': -37.0, 'max_lat': 14.0, 'resolution':'l'}\n",
      "\n",
      "# Create a hmtk basemap\n",
      "basemap1 = HMTKBaseMap(map_config, 'Earthquake Catalogue')\n",
      "# Add a catalogue\n",
      "basemap1.add_catalogue(catalogue)"
     ],
     "language": "python",
     "metadata": {},
     "outputs": []
    },
    {
     "cell_type": "code",
     "collapsed": false,
     "input": [
      "# Limit the catalogue to the time period 1960 - 2012\n",
      "valid_time = np.logical_and(catalogue.data['year'] >= 1900,\n",
      "                            catalogue.data['year'] <= 2014)\n",
      "catalogue.select_catalogue_events(valid_time)\n",
      "plot_magnitude_time_density(catalogue, 0.2, 2.0)\n",
      "print 'Catalogue now contains %s events' % catalogue.get_number_events()"
     ],
     "language": "python",
     "metadata": {},
     "outputs": []
    },
    {
     "cell_type": "code",
     "collapsed": false,
     "input": [
      "# Show distribution of magnitudes with time\n",
      "plot_magnitude_time_scatter(catalogue, fmt_string='.')"
     ],
     "language": "python",
     "metadata": {},
     "outputs": []
    },
    {
     "cell_type": "code",
     "collapsed": false,
     "input": [
      "# Plot the magnitude-time density\n",
      "magnitude_bin = 0.2\n",
      "time_bin = 5.0 # in Decimal Years\n",
      "plot_magnitude_time_density(catalogue, magnitude_bin, time_bin)"
     ],
     "language": "python",
     "metadata": {},
     "outputs": []
    },
    {
     "cell_type": "code",
     "collapsed": false,
     "input": [
      "# Depth histogram\n",
      "plot_depth_histogram(catalogue, 10.)"
     ],
     "language": "python",
     "metadata": {},
     "outputs": []
    },
    {
     "cell_type": "code",
     "collapsed": false,
     "input": [
      "# Time-varying completeness\n",
      "completeness = np.array([[1985., 4.0],\n",
      "                         [1964., 5.0],\n",
      "                         [1910., 6.5]])\n",
      "plot_observed_recurrence(catalogue, completeness, 0.2, catalogue.end_year)"
     ],
     "language": "python",
     "metadata": {},
     "outputs": []
    },
    {
     "cell_type": "code",
     "collapsed": false,
     "input": [
      "# Limit the catalogue to depths less than 50 km\n",
      "valid_depth = catalogue.data['depth'] <= 50.\n",
      "catalogue.select_catalogue_events(valid_depth)\n",
      "plot_depth_histogram(catalogue, 2.0)"
     ],
     "language": "python",
     "metadata": {},
     "outputs": []
    },
    {
     "cell_type": "code",
     "collapsed": false,
     "input": [
      "# Set-up the file writer\n",
      "output_file_name = 'data_output/basic_demo_catalogue_1.csv'\n",
      "writer = CsvCatalogueWriter(output_file_name)\n",
      "\n",
      "# Write the catalogue to file\n",
      "writer.write_file(catalogue)\n",
      "\n",
      "print 'File %s written' % output_file_name"
     ],
     "language": "python",
     "metadata": {},
     "outputs": []
    },
    {
     "cell_type": "code",
     "collapsed": false,
     "input": [
      "completeness = np.array([[1985., 4.0],\n",
      "                         [1964., 5.0],\n",
      "                         [1910., 6.5]])\n",
      "# Set-up the exporter\n",
      "output_file_name = 'data_output/basic_demo_catalogue_complete_1.csv'\n",
      "writer = CsvCatalogueWriter(output_file_name)\n",
      "\n",
      "# Write the catalogue to file, purging events from the incomplete period\n",
      "writer.write_file(catalogue, magnitude_table=completeness)\n",
      "\n",
      "print 'File %s written' % output_file_name"
     ],
     "language": "python",
     "metadata": {},
     "outputs": []
    },
    {
     "cell_type": "code",
     "collapsed": false,
     "input": [],
     "language": "python",
     "metadata": {},
     "outputs": []
    }
   ],
   "metadata": {}
  }
 ]
}