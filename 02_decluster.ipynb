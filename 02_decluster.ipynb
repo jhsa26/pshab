{
 "metadata": {
  "name": "",
  "signature": "sha256:b27bb8b1e0128f38b466847b491550865bf137fa68bfb8fca8ca0fbba421a649"
 },
 "nbformat": 3,
 "nbformat_minor": 0,
 "worksheets": [
  {
   "cells": [
    {
     "cell_type": "code",
     "collapsed": false,
     "input": [
      "# Python utilities\n",
      "import numpy as np\n",
      "import matplotlib.pyplot as plt\n",
      "\n",
      "# Import HMTK I/O Tools\n",
      "from hmtk.parsers.catalogue.csv_catalogue_parser import CsvCatalogueParser, CsvCatalogueWriter\n",
      "\n",
      "\n",
      "# HMTK Declustering Tools\n",
      "from hmtk.seismicity.declusterer.dec_afteran import Afteran\n",
      "from hmtk.seismicity.declusterer.dec_gardner_knopoff import GardnerKnopoffType1\n",
      "from hmtk.seismicity.declusterer.distance_time_windows import GardnerKnopoffWindow, GruenthalWindow, UhrhammerWindow\n",
      "\n",
      "# HMTK Completeness Tools\n",
      "from hmtk.seismicity.completeness.comp_stepp_1971 import Stepp1971\n",
      "\n",
      "print 'Import OK'\n"
     ],
     "language": "python",
     "metadata": {},
     "outputs": [
      {
       "output_type": "stream",
       "stream": "stdout",
       "text": [
        "Import OK\n"
       ]
      }
     ],
     "prompt_number": 1
    },
    {
     "cell_type": "code",
     "collapsed": false,
     "input": [
      "ifile = 'data_input/hmtk_bsb2013.csv'\n",
      "parser = CsvCatalogueParser(ifile)\n",
      "catalogue = parser.read_file()\n",
      "print 'Catalogue contains %s events' % catalogue.get_number_events()\n",
      "\n",
      "# Sort catalogue chronologically\n",
      "catalogue.sort_catalogue_chronologically()\n",
      "print 'Catalogue sorted chronologically!'"
     ],
     "language": "python",
     "metadata": {},
     "outputs": [
      {
       "output_type": "stream",
       "stream": "stdout",
       "text": [
        "Catalogue contains 929 events\n",
        "Catalogue sorted chronologically!\n"
       ]
      }
     ],
     "prompt_number": 2
    },
    {
     "cell_type": "code",
     "collapsed": false,
     "input": [
      "# Set up the declustering algorithm\n",
      "# Step 1 - set-up the tool\n",
      "gardner_knopoff = GardnerKnopoffType1()"
     ],
     "language": "python",
     "metadata": {},
     "outputs": [],
     "prompt_number": 3
    },
    {
     "cell_type": "code",
     "collapsed": false,
     "input": [
      "declust_config = {'time_distance_window': GardnerKnopoffWindow(),\n",
      "                  'fs_time_prop': 1.0}\n",
      "print declust_config"
     ],
     "language": "python",
     "metadata": {},
     "outputs": [
      {
       "output_type": "stream",
       "stream": "stdout",
       "text": [
        "{'fs_time_prop': 1.0, 'time_distance_window': <hmtk.seismicity.declusterer.distance_time_windows.GardnerKnopoffWindow object at 0x10ae75150>}\n"
       ]
      }
     ],
     "prompt_number": 4
    },
    {
     "cell_type": "code",
     "collapsed": false,
     "input": [
      "print 'Running declustering ...'\n",
      "vcl, flag_vector = gardner_knopoff.decluster(catalogue, declust_config)\n",
      "print 'done!'\n",
      "print '%s clusters found' % np.max(vcl)\n",
      "print '%s Non-poissionian events identified' % np.sum(flag_vector != 0)"
     ],
     "language": "python",
     "metadata": {},
     "outputs": [
      {
       "output_type": "stream",
       "stream": "stdout",
       "text": [
        "Running declustering ...\n",
        "done!"
       ]
      },
      {
       "output_type": "stream",
       "stream": "stdout",
       "text": [
        "\n",
        "82 clusters found\n",
        "276 Non-poissionian events identified\n"
       ]
      }
     ],
     "prompt_number": 5
    },
    {
     "cell_type": "code",
     "collapsed": false,
     "input": [
      "# Setup the algorithm\n",
      "afteran = Afteran()\n",
      "declust_config = {'time_distance_window': GardnerKnopoffWindow(),\n",
      "                  'time_window': 60.}\n",
      "print 'Running Afteran ...'\n",
      "# Run Afteran\n",
      "vcl2, flag_vector2 = afteran.decluster(catalogue, declust_config)\n",
      "print 'done!'\n",
      "print '%s clusters found' % np.max(vcl2)\n",
      "print '%s Non-poissionian events identified' % np.sum(flag_vector2 != 0)"
     ],
     "language": "python",
     "metadata": {},
     "outputs": [
      {
       "output_type": "stream",
       "stream": "stdout",
       "text": [
        "Running Afteran ...\n",
        "done!"
       ]
      },
      {
       "output_type": "stream",
       "stream": "stdout",
       "text": [
        "\n",
        "75 clusters found\n",
        "261 Non-poissionian events identified\n"
       ]
      }
     ],
     "prompt_number": 6
    },
    {
     "cell_type": "code",
     "collapsed": false,
     "input": [
      "catalogue.select_catalogue_events(flag_vector == 0)\n",
      "print 'Purged catalogue now contains %s events' % catalogue.get_number_events()"
     ],
     "language": "python",
     "metadata": {},
     "outputs": [
      {
       "output_type": "stream",
       "stream": "stdout",
       "text": [
        "Purged catalogue now contains 653 events\n"
       ]
      }
     ],
     "prompt_number": 7
    },
    {
     "cell_type": "code",
     "collapsed": false,
     "input": [
      "output_file = 'data_output/bsb2013_catalogue_declustered_v2.csv'\n",
      "writer = CsvCatalogueWriter(output_file)\n",
      "writer.write_file(catalogue)"
     ],
     "language": "python",
     "metadata": {},
     "outputs": [],
     "prompt_number": 9
    },
    {
     "cell_type": "code",
     "collapsed": false,
     "input": [],
     "language": "python",
     "metadata": {},
     "outputs": []
    }
   ],
   "metadata": {}
  }
 ]
}